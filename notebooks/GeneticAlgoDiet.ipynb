{
 "cells": [
  {
   "cell_type": "code",
   "execution_count": 12,
   "id": "2ba0aaa9-71f2-4363-b87e-c13fe2cb4959",
   "metadata": {},
   "outputs": [],
   "source": [
    "import random "
   ]
  },
  {
   "cell_type": "code",
   "execution_count": 13,
   "id": "be43c3c6-da21-481b-aaed-7e24c593b0c0",
   "metadata": {},
   "outputs": [],
   "source": [
    "# Define your problem-specific parameters\n",
    "# For this example, let's say we have a list of ingredients with their respective nutritional values\n",
    "# and we want to find the best combination of ingredients that meet certain nutritional goals\n",
    "ingredients = {\n",
    "    'spinach': {'protein': 2, 'carbs': 3, 'fat': 1, 'calories': 20},\n",
    "    'chicken': {'protein': 20, 'carbs': 0, 'fat': 10, 'calories': 200},\n",
    "    'rice': {'protein': 5, 'carbs': 20, 'fat': 1, 'calories': 100}\n",
    "}"
   ]
  },
  {
   "cell_type": "code",
   "execution_count": 14,
   "id": "f9cdff65-d847-41d1-a910-eac1784742f5",
   "metadata": {},
   "outputs": [],
   "source": [
    "# Define your optimization parameters\n",
    "target_protein = 50  # Target protein goal\n",
    "target_calories = 1000  # Target calorie goal"
   ]
  },
  {
   "cell_type": "code",
   "execution_count": 15,
   "id": "9bcde517-5f6d-4340-bae9-4e5db8433878",
   "metadata": {},
   "outputs": [],
   "source": [
    "# Define genetic algorithm parameters\n",
    "population_size = 50\n",
    "mutation_rate = 0.1\n",
    "num_generations = 100"
   ]
  },
  {
   "cell_type": "code",
   "execution_count": 16,
   "id": "8d432bad-db75-40f6-b5b0-1d1cec01d665",
   "metadata": {},
   "outputs": [],
   "source": [
    "# Define functions for genetic algorithm\n",
    "def initialize_population(population_size):\n",
    "    population = []\n",
    "    for _ in range(population_size):\n",
    "        individual = [random.choice(list(ingredients.keys())) for _ in range(len(ingredients))]\n",
    "        population.append(individual)\n",
    "    return population\n",
    "\n",
    "def fitness(individual):\n",
    "    protein_sum = sum(ingredients[ingredient]['protein'] for ingredient in individual)\n",
    "    calorie_sum = sum(ingredients[ingredient]['calories'] for ingredient in individual)\n",
    "    protein_fitness = abs(protein_sum - target_protein)\n",
    "    calorie_fitness = abs(calorie_sum - target_calories)\n",
    "    return protein_fitness + calorie_fitness\n",
    "\n",
    "def mutate(individual):\n",
    "    if random.random() < mutation_rate:\n",
    "        index_to_mutate = random.randint(0, len(individual) - 1)\n",
    "        individual[index_to_mutate] = random.choice(list(ingredients.keys()))\n",
    "    return individual\n",
    "\n",
    "def crossover(parent1, parent2):\n",
    "    crossover_point = random.randint(1, len(parent1) - 1)\n",
    "    child = parent1[:crossover_point] + parent2[crossover_point:]\n",
    "    return child\n",
    "\n",
    "def genetic_algorithm(population):\n",
    "    for _ in range(num_generations):\n",
    "        population = sorted(population, key=lambda x: fitness(x))\n",
    "        fittest_individual = population[0]\n",
    "        if fitness(fittest_individual) == 0:\n",
    "            return fittest_individual\n",
    "        new_population = [fittest_individual]\n",
    "        while len(new_population) < population_size:\n",
    "            parent1 = random.choice(population)\n",
    "            parent2 = random.choice(population)\n",
    "            child = crossover(parent1, parent2)\n",
    "            child = mutate(child)\n",
    "            new_population.append(child)\n",
    "        population = new_population\n",
    "    return None"
   ]
  },
  {
   "cell_type": "code",
   "execution_count": 17,
   "id": "bd1bd1ce-6850-4004-ada6-6a71be09eacb",
   "metadata": {},
   "outputs": [
    {
     "name": "stdout",
     "output_type": "stream",
     "text": [
      "Best combination of ingredients: None\n"
     ]
    }
   ],
   "source": [
    "\n",
    "# Run the genetic algorithm\n",
    "population = initialize_population(population_size)\n",
    "best_individual = genetic_algorithm(population)\n",
    "print(\"Best combination of ingredients:\", best_individual)\n"
   ]
  }
 ],
 "metadata": {
  "kernelspec": {
   "display_name": "Python 3 (ipykernel)",
   "language": "python",
   "name": "python3"
  },
  "language_info": {
   "codemirror_mode": {
    "name": "ipython",
    "version": 3
   },
   "file_extension": ".py",
   "mimetype": "text/x-python",
   "name": "python",
   "nbconvert_exporter": "python",
   "pygments_lexer": "ipython3",
   "version": "3.11.7"
  }
 },
 "nbformat": 4,
 "nbformat_minor": 5
}
